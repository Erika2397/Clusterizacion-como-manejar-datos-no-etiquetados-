{
  "cells": [
    {
      "cell_type": "markdown",
      "metadata": {
        "id": "view-in-github",
        "colab_type": "text"
      },
      "source": [
        "<a href=\"https://colab.research.google.com/github/Erika2397/Clusterizacion-como-manejar-datos-no-etiquetados-/blob/main/notebooks/aula_1/notebook_aula_1.ipynb\" target=\"_parent\"><img src=\"https://colab.research.google.com/assets/colab-badge.svg\" alt=\"Open In Colab\"/></a>"
      ]
    },
    {
      "cell_type": "code",
      "execution_count": 30,
      "metadata": {
        "id": "gRby5XQPgwH1"
      },
      "outputs": [],
      "source": []
    },
    {
      "cell_type": "code",
      "execution_count": 2,
      "metadata": {
        "id": "Jj89PU-QA_4j"
      },
      "outputs": [],
      "source": []
    },
    {
      "cell_type": "markdown",
      "metadata": {
        "id": "2inWQPh_ggmu"
      },
      "source": [
        "# Recopilando y ajustando datos"
      ]
    },
    {
      "cell_type": "code",
      "execution_count": 30,
      "metadata": {
        "id": "QpplIQxKgyFS"
      },
      "outputs": [],
      "source": []
    },
    {
      "cell_type": "code",
      "source": [],
      "metadata": {
        "id": "_RkYO0BaXxzU"
      },
      "execution_count": 30,
      "outputs": []
    },
    {
      "cell_type": "code",
      "execution_count": 30,
      "metadata": {
        "id": "gQP8GZ4ZgzvT"
      },
      "outputs": [],
      "source": []
    },
    {
      "cell_type": "markdown",
      "metadata": {
        "id": "3OO7Kc1ig3DA"
      },
      "source": [
        "## Aplicando codificador"
      ]
    },
    {
      "cell_type": "code",
      "execution_count": 29,
      "metadata": {
        "id": "X-p_t-azg04H"
      },
      "outputs": [],
      "source": []
    },
    {
      "cell_type": "code",
      "execution_count": 29,
      "metadata": {
        "id": "1ci4Xvj1hAFf"
      },
      "outputs": [],
      "source": []
    },
    {
      "cell_type": "code",
      "source": [],
      "metadata": {
        "id": "f1PfNZlSBDrQ"
      },
      "execution_count": 29,
      "outputs": []
    },
    {
      "cell_type": "code",
      "source": [],
      "metadata": {
        "id": "iedDZOQBR24a"
      },
      "execution_count": 29,
      "outputs": []
    },
    {
      "cell_type": "code",
      "source": [],
      "metadata": {
        "id": "ZeH7miakTkWM"
      },
      "execution_count": 29,
      "outputs": []
    },
    {
      "cell_type": "markdown",
      "metadata": {
        "id": "7EJQiUPthTFo"
      },
      "source": [
        "## Desarrollando el modelo"
      ]
    },
    {
      "cell_type": "code",
      "execution_count": 29,
      "metadata": {
        "id": "5VZtPhN9hWd3"
      },
      "outputs": [],
      "source": []
    },
    {
      "cell_type": "code",
      "execution_count": 29,
      "metadata": {
        "id": "slWtnmazoHGj"
      },
      "outputs": [],
      "source": []
    },
    {
      "cell_type": "markdown",
      "metadata": {
        "id": "w0XPkSH-hj5Q"
      },
      "source": [
        "# Evaluando el K-means"
      ]
    },
    {
      "cell_type": "code",
      "execution_count": 29,
      "metadata": {
        "id": "gDXt3hv7OQEj"
      },
      "outputs": [],
      "source": []
    },
    {
      "cell_type": "code",
      "execution_count": 29,
      "metadata": {
        "id": "V-XHyx-KOP6z"
      },
      "outputs": [],
      "source": []
    },
    {
      "cell_type": "markdown",
      "metadata": {
        "id": "nSpCzX-Ghxxq"
      },
      "source": [
        "## Evaluando métricas para diferentes K"
      ]
    },
    {
      "cell_type": "code",
      "execution_count": 29,
      "metadata": {
        "id": "XPgUITA5TjX4"
      },
      "outputs": [],
      "source": []
    },
    {
      "cell_type": "code",
      "execution_count": 29,
      "metadata": {
        "id": "q46QzFwiTjTA"
      },
      "outputs": [],
      "source": []
    },
    {
      "cell_type": "markdown",
      "metadata": {
        "id": "InCv_WqI-611"
      },
      "source": [
        "## Clase 2.3 - Verificando la silueta por muestras"
      ]
    },
    {
      "cell_type": "code",
      "execution_count": 17,
      "metadata": {
        "id": "q7u5mQPQV9J1"
      },
      "outputs": [],
      "source": []
    },
    {
      "cell_type": "code",
      "execution_count": 29,
      "metadata": {
        "id": "YJBXtUgZV-hL"
      },
      "outputs": [],
      "source": []
    },
    {
      "cell_type": "markdown",
      "metadata": {
        "id": "3ybQzUklV8Ns"
      },
      "source": [
        "### Otras visualizaciones"
      ]
    },
    {
      "cell_type": "code",
      "execution_count": 29,
      "metadata": {
        "id": "IQCw0bsrWApp"
      },
      "outputs": [],
      "source": []
    },
    {
      "cell_type": "code",
      "execution_count": 29,
      "metadata": {
        "id": "Og1EvlFDWAkK"
      },
      "outputs": [],
      "source": []
    },
    {
      "cell_type": "markdown",
      "metadata": {
        "id": "P9KSZdeeifXu"
      },
      "source": [
        "# Evaluación y ajuste de datos"
      ]
    },
    {
      "cell_type": "code",
      "execution_count": 29,
      "metadata": {
        "id": "jYrPbA5tqeaJ"
      },
      "outputs": [],
      "source": []
    },
    {
      "cell_type": "code",
      "execution_count": 29,
      "metadata": {
        "id": "Ea6a__dkqeUb"
      },
      "outputs": [],
      "source": []
    },
    {
      "cell_type": "code",
      "execution_count": 29,
      "metadata": {
        "id": "01nQUeLeqeOz"
      },
      "outputs": [],
      "source": []
    },
    {
      "cell_type": "code",
      "execution_count": 29,
      "metadata": {
        "id": "pi4nr1zPqeJw"
      },
      "outputs": [],
      "source": []
    },
    {
      "cell_type": "markdown",
      "metadata": {
        "id": "g3XW-I3miptg"
      },
      "source": [
        "## Verificando las métricas para los nuevos datos"
      ]
    },
    {
      "cell_type": "code",
      "execution_count": 29,
      "metadata": {
        "id": "dcQbkojRqhX8"
      },
      "outputs": [],
      "source": []
    },
    {
      "cell_type": "code",
      "execution_count": 29,
      "metadata": {
        "id": "fxHfKheTqhRv"
      },
      "outputs": [],
      "source": []
    },
    {
      "cell_type": "code",
      "execution_count": 29,
      "metadata": {
        "id": "H_afEqXRqhMW"
      },
      "outputs": [],
      "source": []
    },
    {
      "cell_type": "markdown",
      "metadata": {
        "id": "LOOlJnmoiweU"
      },
      "source": [
        "## Creando el mejor modelo"
      ]
    },
    {
      "cell_type": "code",
      "execution_count": 29,
      "metadata": {
        "id": "TFoxQfSeqiR1"
      },
      "outputs": [],
      "source": []
    },
    {
      "cell_type": "code",
      "execution_count": 29,
      "metadata": {
        "id": "5MyJKSiHqiNE"
      },
      "outputs": [],
      "source": []
    },
    {
      "cell_type": "markdown",
      "metadata": {
        "id": "wjmu8EK-i5Wl"
      },
      "source": [
        "# Analizando las informaciones de cada cluster"
      ]
    },
    {
      "cell_type": "code",
      "execution_count": 29,
      "metadata": {
        "id": "mEqb6YFejGX4"
      },
      "outputs": [],
      "source": []
    },
    {
      "cell_type": "code",
      "execution_count": 29,
      "metadata": {
        "id": "Le-59tF2jOl7"
      },
      "outputs": [],
      "source": []
    },
    {
      "cell_type": "code",
      "execution_count": 29,
      "metadata": {
        "id": "lh-0XN46jQlB"
      },
      "outputs": [],
      "source": []
    },
    {
      "cell_type": "code",
      "execution_count": 29,
      "metadata": {
        "id": "phwpsjncGuQ9"
      },
      "outputs": [],
      "source": []
    },
    {
      "cell_type": "code",
      "execution_count": 29,
      "metadata": {
        "id": "dvaNvviDGuKr"
      },
      "outputs": [],
      "source": []
    },
    {
      "cell_type": "code",
      "source": [],
      "metadata": {
        "id": "GQTUg9lEKPxd"
      },
      "execution_count": 29,
      "outputs": []
    },
    {
      "cell_type": "markdown",
      "metadata": {
        "id": "8JVUwm9HGzeP"
      },
      "source": [
        "## Describiendo cada agrupamiento"
      ]
    },
    {
      "cell_type": "code",
      "execution_count": 29,
      "metadata": {
        "id": "WtDsH3aGG3ma"
      },
      "outputs": [],
      "source": []
    },
    {
      "cell_type": "code",
      "execution_count": 29,
      "metadata": {
        "id": "_J4cY_jLG4nz"
      },
      "outputs": [],
      "source": []
    },
    {
      "cell_type": "code",
      "execution_count": 29,
      "metadata": {
        "id": "8FVw6eWUG5mA"
      },
      "outputs": [],
      "source": []
    },
    {
      "cell_type": "markdown",
      "source": [
        "# Proyecto Final: Descubre tu Tribu Digital\n",
        "\n",
        "En este proyecto vas a aplicar lo aprendido en clustering para segmentar usuarios según su estilo de vida y sus intereses.\n",
        "\n",
        "La base de datos que usamos contiene información sobre deportes, música, ropa y más. A partir de estos datos, vas a descubrir **grupos con perfiles similares** que podrían representar \"tribus digitales\".\n"
      ],
      "metadata": {
        "id": "q6x5EDZ0jOxU"
      }
    },
    {
      "cell_type": "markdown",
      "source": [
        "## Objetivo"
      ],
      "metadata": {
        "id": "St2rNDXWhrUQ"
      }
    },
    {
      "cell_type": "markdown",
      "source": [
        "🎯 **Objetivo:** Ayudar a un equipo de marketing a entender mejor los diferentes perfiles de usuarios para personalizar campañas y productos."
      ],
      "metadata": {
        "id": "QWmnuGhajZii"
      }
    },
    {
      "cell_type": "markdown",
      "source": [
        "## Seleccionando variables"
      ],
      "metadata": {
        "id": "XyZP9w0zjN8q"
      }
    },
    {
      "cell_type": "code",
      "execution_count": 29,
      "metadata": {
        "id": "6tgbqiIBdy5Z"
      },
      "outputs": [],
      "source": []
    },
    {
      "cell_type": "markdown",
      "source": [
        " ## Visualización"
      ],
      "metadata": {
        "id": "_zOB_oW0kuIn"
      }
    },
    {
      "cell_type": "code",
      "source": [],
      "metadata": {
        "id": "rs5ttHBKkyeO"
      },
      "execution_count": 29,
      "outputs": []
    },
    {
      "cell_type": "markdown",
      "source": [
        "## 🚀 Bonus: Visualiza todo como una app interactiva\n",
        "\n",
        "Todo este análisis puede convertirse en una **aplicación web** usando Streamlit.\n",
        "🔗 [Haz clic aquí para probar la app en vivo](https://tu-app.streamlit.app)\n",
        "\n",
        "La app permite:\n",
        "- Cambiar la cantidad de clusters\n",
        "- Elegir qué columnas usar\n",
        "- Visualizar los grupos en 2D\n",
        "- Ver el perfil promedio de cada tribu digital"
      ],
      "metadata": {
        "id": "nYXMnvyhk9rX"
      }
    },
    {
      "cell_type": "code",
      "source": [],
      "metadata": {
        "id": "vsJXKThLk1Zl"
      },
      "execution_count": 29,
      "outputs": []
    },
    {
      "cell_type": "code",
      "source": [],
      "metadata": {
        "id": "2wkviT9yl0fO"
      },
      "execution_count": 29,
      "outputs": []
    },
    {
      "cell_type": "code",
      "source": [],
      "metadata": {
        "id": "o0NynK34oC_I"
      },
      "execution_count": 29,
      "outputs": []
    }
  ],
  "metadata": {
    "colab": {
      "collapsed_sections": [
        "3ybQzUklV8Ns",
        "P9KSZdeeifXu",
        "wjmu8EK-i5Wl",
        "8JVUwm9HGzeP"
      ],
      "provenance": [],
      "include_colab_link": true
    },
    "kernelspec": {
      "display_name": "Python 3",
      "name": "python3"
    },
    "language_info": {
      "name": "python"
    }
  },
  "nbformat": 4,
  "nbformat_minor": 0
}